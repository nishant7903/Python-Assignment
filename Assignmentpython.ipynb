{
 "cells": [
  {
   "cell_type": "markdown",
   "id": "4b19e6a5-eeea-4cdf-bb55-28a928aab771",
   "metadata": {},
   "source": [
    "Assignment Python"
   ]
  },
  {
   "cell_type": "code",
   "execution_count": 3,
   "id": "e14ddba0-71f2-48a9-8004-d7035a75db41",
   "metadata": {},
   "outputs": [
    {
     "name": "stdin",
     "output_type": "stream",
     "text": [
      "Enter first number:  10\n",
      "Enter second number:  3\n"
     ]
    },
    {
     "name": "stdout",
     "output_type": "stream",
     "text": [
      "Addition: 13\n",
      "Subtraction: 7\n",
      "Multiplication: 30\n",
      "Division: 3.33\n",
      "Modulus: 1\n",
      "Exponentiation: 1000\n",
      "Floor Division: 3\n"
     ]
    }
   ],
   "source": [
    "# Exercise 1: Arithmetic Operators\n",
    "\n",
    "# Step 1: Take input from the user and convert them to integers\n",
    "first_num = int(input(\"Enter first number: \"))  # Taking the first number as input\n",
    "second_num = int(input(\"Enter second number: \"))  # Taking the second number as input\n",
    "\n",
    "# Step 2: Perform basic arithmetic operations\n",
    "\n",
    "# Addition\n",
    "addition = first_num + second_num  # Adding the two numbers\n",
    "print(\"Addition:\", addition)  # Output the result of addition\n",
    "\n",
    "# Subtraction\n",
    "subtraction = first_num - second_num  # Subtracting the second number from the first\n",
    "print(\"Subtraction:\", subtraction)  # Output the result of subtraction\n",
    "\n",
    "# Multiplication\n",
    "multiplication = first_num * second_num  # Multiplying the two numbers\n",
    "print(\"Multiplication:\", multiplication)  # Output the result of multiplication\n",
    "\n",
    "# Division (normal division that returns a float result)\n",
    "division = first_num / second_num  # Dividing the first number by the second\n",
    "print(\"Division:\", round(division, 2))  # Output the result of division, rounded to 2 decimal places\n",
    "\n",
    "# Step 3: Modulus operator\n",
    "modulus = first_num % second_num  # Finding the remainder when the first number is divided by the second\n",
    "print(\"Modulus:\", modulus)  # Output the result of modulus\n",
    "\n",
    "# Step 4: Exponentiation operator\n",
    "exponentiation = first_num ** second_num  # Raising the first number to the power of the second number\n",
    "print(\"Exponentiation:\", exponentiation)  # Output the result of exponentiation\n",
    "\n",
    "# Step 5: Floor division (division that returns an integer result)\n",
    "floor_division = first_num // second_num  # Performing floor division (ignores decimal part)\n",
    "print(\"Floor Division:\", floor_division)  # Output the result of floor division\n"
   ]
  },
  {
   "cell_type": "code",
   "execution_count": 5,
   "id": "257aa21c-7ba0-47b9-8088-ca66fa0e5802",
   "metadata": {},
   "outputs": [
    {
     "name": "stdin",
     "output_type": "stream",
     "text": [
      "Enter first number:  10\n",
      "Enter second number:  65\n"
     ]
    },
    {
     "name": "stdout",
     "output_type": "stream",
     "text": [
      "Is the first number greater than the second? False\n",
      "Is the first number equal to the second? False\n",
      "Is the first number less than or equal to the second? True\n"
     ]
    }
   ],
   "source": [
    "# Exercise 2: Comparison Operators\n",
    "\n",
    "# Step 1: Take input from the user and convert them to float\n",
    "first_num = float(input(\"Enter first number: \"))  # Taking the first number as input\n",
    "second_num = float(input(\"Enter second number: \"))  # Taking the second number as input\n",
    "\n",
    "# Step 2: Perform comparison operations\n",
    "\n",
    "# Check if the first number is greater than the second\n",
    "is_greater = first_num > second_num  # Evaluates to True if first_num is greater\n",
    "print(\"Is the first number greater than the second?\", is_greater)  # Output the result\n",
    "\n",
    "# Check if the first number is equal to the second\n",
    "is_equal = first_num == second_num  # Evaluates to True if both numbers are equal\n",
    "print(\"Is the first number equal to the second?\", is_equal)  # Output the result\n",
    "\n",
    "# Check if the first number is less than or equal to the second\n",
    "is_less_or_equal = first_num <= second_num  # Evaluates to True if first_num is less than or equal to second_num\n",
    "print(\"Is the first number less than or equal to the second?\", is_less_or_equal)  # Output the result\n"
   ]
  },
  {
   "cell_type": "code",
   "execution_count": 7,
   "id": "c497831f-e530-4a34-86a0-7c51985a7960",
   "metadata": {},
   "outputs": [
    {
     "name": "stdin",
     "output_type": "stream",
     "text": [
      "Enter first boolean value (True/False):  true\n",
      "Enter second boolean value (True/False):  false\n",
      "Enter third boolean value (True/False):  false\n"
     ]
    },
    {
     "name": "stdout",
     "output_type": "stream",
     "text": [
      "Result of 'and' operation: False\n",
      "Result of 'or' operation: True\n",
      "Negation of first boolean: False\n",
      "Negation of second boolean: True\n",
      "Negation of third boolean: True\n"
     ]
    }
   ],
   "source": [
    "# Exercise 3: Logical Operators\n",
    "\n",
    "# Step 1: Take input from the user and convert them to boolean\n",
    "# Note: The user will enter 'True' or 'False' as strings which will be converted to boolean\n",
    "first_bool = input(\"Enter first boolean value (True/False): \").strip().lower() == 'true'  # Convert input to boolean\n",
    "second_bool = input(\"Enter second boolean value (True/False): \").strip().lower() == 'true'  # Convert input to boolean\n",
    "third_bool = input(\"Enter third boolean value (True/False): \").strip().lower() == 'true'  # Convert input to boolean\n",
    "\n",
    "# Step 2: Perform logical operations\n",
    "\n",
    "# Using 'and' operator\n",
    "and_result = first_bool and second_bool and third_bool  # True if all three boolean values are True\n",
    "print(\"Result of 'and' operation:\", and_result)  # Output the result of 'and'\n",
    "\n",
    "# Using 'or' operator\n",
    "or_result = first_bool or second_bool or third_bool  # True if at least one of the boolean values is True\n",
    "print(\"Result of 'or' operation:\", or_result)  # Output the result of 'or'\n",
    "\n",
    "# Using 'not' operator on each boolean value\n",
    "not_first = not first_bool  # Negates the value of first_bool\n",
    "not_second = not second_bool  # Negates the value of second_bool\n",
    "not_third = not third_bool  # Negates the value of third_bool\n",
    "\n",
    "# Output the results of 'not' operations\n",
    "print(\"Negation of first boolean:\", not_first)  # Output the negation of the first boolean value\n",
    "print(\"Negation of second boolean:\", not_second)  # Output the negation of the second boolean value\n",
    "print(\"Negation of third boolean:\", not_third)  # Output the negation of the third boolean value\n"
   ]
  },
  {
   "cell_type": "code",
   "execution_count": 15,
   "id": "595da782-4cb6-4eec-a723-aec7fc56fbf2",
   "metadata": {},
   "outputs": [
    {
     "name": "stdin",
     "output_type": "stream",
     "text": [
      "Enter a string:  aman\n"
     ]
    },
    {
     "name": "stdout",
     "output_type": "stream",
     "text": [
      "Length of the string: 4\n",
      "First character: a\n",
      "Last character: n\n",
      "String in reverse order: nama\n",
      "String in uppercase: AMAN\n",
      "String in lowercase: aman\n"
     ]
    }
   ],
   "source": [
    "# Exercise 4: String Manipulation\n",
    "\n",
    "# Step 1: Take string input from the user\n",
    "user_string = input(\"Enter a string: \")  # Prompt user for a string\n",
    "\n",
    "# Step 2: Display the length of the string\n",
    "string_length = len(user_string)  # Calculate the length of the string\n",
    "print(\"Length of the string:\", string_length)  # Output the length\n",
    "\n",
    "# Step 3: Display the first and last character of the string\n",
    "first_character = user_string[0]  # Get the first character\n",
    "last_character = user_string[-1]  # Get the last character\n",
    "print(\"First character:\", first_character)  # Output the first character\n",
    "print(\"Last character:\", last_character)  # Output the last character\n",
    "\n",
    "# Step 4: Display the string in reverse order\n",
    "reversed_string = user_string[::-1]  # Reverse the string using slicing\n",
    "print(\"String in reverse order:\", reversed_string)  # Output the reversed string\n",
    "\n",
    "# Step 5: Display the string in uppercase and lowercase\n",
    "uppercase_string = user_string.upper()  # Convert the string to uppercase\n",
    "lowercase_string = user_string.lower()  # Convert the string to lowercase\n",
    "print(\"String in uppercase:\", uppercase_string)  # Output the uppercase string\n",
    "print(\"String in lowercase:\", lowercase_string)  # Output the lowercase string\n"
   ]
  },
  {
   "cell_type": "code",
   "execution_count": 17,
   "id": "3d15331a-3809-4332-bb42-167f973b7bb6",
   "metadata": {},
   "outputs": [
    {
     "name": "stdin",
     "output_type": "stream",
     "text": [
      "Enter your name:  aman\n",
      "Enter your age:  25\n"
     ]
    },
    {
     "name": "stdout",
     "output_type": "stream",
     "text": [
      "Hello aman, you are 25 years old.\n"
     ]
    }
   ],
   "source": [
    "# Exercise 5: String Formatting\n",
    "\n",
    "# Step 1: Ask for the user's name\n",
    "name = input(\"Enter your name: \")  # Prompt user for their name\n",
    "\n",
    "# Step 2: Ask for the user's age\n",
    "age = input(\"Enter your age: \")  # Prompt user for their age\n",
    "\n",
    "# Step 3: Display the formatted message\n",
    "# Using f-string for formatting the output message\n",
    "message = f\"Hello {name}, you are {age} years old.\"  # Format the message with user's name and age\n",
    "print(message)  # Output the formatted message\n"
   ]
  },
  {
   "cell_type": "code",
   "execution_count": 19,
   "id": "c2f2462a-4046-4658-a97f-46a96bb7832e",
   "metadata": {},
   "outputs": [
    {
     "name": "stdin",
     "output_type": "stream",
     "text": [
      "Enter a sentence:  python programming language in good\n",
      "Enter a word to search in the sentence:  in\n"
     ]
    },
    {
     "name": "stdout",
     "output_type": "stream",
     "text": [
      "The word 'in' exists in the sentence at index: 15\n"
     ]
    }
   ],
   "source": [
    "# Exercise 6: Substring Search\n",
    "\n",
    "# Step 1: Ask for a sentence input from the user\n",
    "sentence = input(\"Enter a sentence: \")  # Prompt user for a sentence\n",
    "\n",
    "# Step 2: Ask for a word to search in the sentence\n",
    "word_to_search = input(\"Enter a word to search in the sentence: \")  # Prompt user for the word to search\n",
    "\n",
    "# Step 3: Check if the word exists in the sentence\n",
    "if word_to_search in sentence:  # Check if the word is found in the sentence\n",
    "    position = sentence.index(word_to_search)  # Find the index of the first occurrence of the word\n",
    "    print(f\"The word '{word_to_search}' exists in the sentence at index: {position}\")  # Output the position\n",
    "else:\n",
    "    print(f\"The word '{word_to_search}' does not exist in the sentence.\")  # Output if the word is not found\n"
   ]
  },
  {
   "cell_type": "code",
   "execution_count": 21,
   "id": "5f06d558-2795-426b-8575-55209b6166b4",
   "metadata": {},
   "outputs": [
    {
     "name": "stdin",
     "output_type": "stream",
     "text": [
      "Enter number 1:  23\n",
      "Enter number 2:  25\n",
      "Enter number 3:  28\n",
      "Enter number 4:  12\n",
      "Enter number 5:  9\n"
     ]
    },
    {
     "name": "stdout",
     "output_type": "stream",
     "text": [
      "Sum of all numbers: 97.0\n",
      "Largest number: 28.0\n",
      "Smallest number: 9.0\n"
     ]
    }
   ],
   "source": [
    "# Exercise 7: List Operations\n",
    "\n",
    "# Step 1: Create a list of 5 numbers (input from the user)\n",
    "numbers = []  # Initialize an empty list to store the numbers\n",
    "\n",
    "# Loop to get 5 numbers from the user\n",
    "for i in range(5):\n",
    "    num = float(input(f\"Enter number {i + 1}: \"))  # Prompt user for each number and convert it to float\n",
    "    numbers.append(num)  # Add the number to the list\n",
    "\n",
    "# Step 2: Display the sum of all the numbers in the list\n",
    "total_sum = sum(numbers)  # Calculate the sum of the numbers using the sum() function\n",
    "print(\"Sum of all numbers:\", total_sum)  # Output the total sum\n",
    "\n",
    "# Step 3: Find the largest and smallest number in the list\n",
    "largest_number = max(numbers)  # Find the largest number using the max() function\n",
    "smallest_number = min(numbers)  # Find the smallest number using the min() function\n",
    "\n",
    "# Output the largest and smallest numbers\n",
    "print(\"Largest number:\", largest_number)  # Output the largest number\n",
    "print(\"Smallest number:\", smallest_number)  # Output the smallest number\n"
   ]
  },
  {
   "cell_type": "code",
   "execution_count": 23,
   "id": "9d99517e-c241-4555-97dd-a684e6ad17c9",
   "metadata": {},
   "outputs": [
    {
     "name": "stdout",
     "output_type": "stream",
     "text": [
      "Updated list of favorite fruits: ['Apple', 'Cherry', 'Mango', 'Grapes', 'Orange']\n"
     ]
    }
   ],
   "source": [
    "# Exercise 8: List Manipulation\n",
    "\n",
    "# Step 1: Create a list of 5 favorite fruits\n",
    "favorite_fruits = [\"Apple\", \"Banana\", \"Cherry\", \"Mango\", \"Grapes\"]  # List of favorite fruits\n",
    "\n",
    "# Step 2: Perform the required operations\n",
    "# Add one more fruit to the list\n",
    "favorite_fruits.append(\"Orange\")  # Adding \"Orange\" to the list\n",
    "\n",
    "# Remove the second fruit from the list\n",
    "favorite_fruits.pop(1)  # Remove the fruit at index 1 (second fruit, which is \"Banana\")\n",
    "\n",
    "# Step 3: Print the updated list\n",
    "print(\"Updated list of favorite fruits:\", favorite_fruits)  # Output the updated list\n"
   ]
  },
  {
   "cell_type": "code",
   "execution_count": 25,
   "id": "4a9c1dd8-4409-426f-8de9-3b6d84941c82",
   "metadata": {},
   "outputs": [
    {
     "name": "stdin",
     "output_type": "stream",
     "text": [
      "Enter number 1:  34\n",
      "Enter number 2:  21\n",
      "Enter number 3:  73\n",
      "Enter number 4:  2\n",
      "Enter number 5:  88\n"
     ]
    },
    {
     "name": "stdout",
     "output_type": "stream",
     "text": [
      "Sorted list in ascending order: [2.0, 21.0, 34.0, 73.0, 88.0]\n",
      "Sorted list in descending order: [88.0, 73.0, 34.0, 21.0, 2.0]\n"
     ]
    }
   ],
   "source": [
    "# Exercise 9: Sorting a List\n",
    "\n",
    "# Step 1: Ask the user to input a list of 5 numbers\n",
    "numbers = []  # Initialize an empty list to store the numbers\n",
    "\n",
    "# Loop to get 5 numbers from the user\n",
    "for i in range(5):\n",
    "    num = float(input(f\"Enter number {i + 1}: \"))  # Prompt user for each number and convert it to float\n",
    "    numbers.append(num)  # Add the number to the list\n",
    "\n",
    "# Step 2: Sort the list in ascending order\n",
    "ascending_order = sorted(numbers)  # Use the sorted() function to sort the list\n",
    "print(\"Sorted list in ascending order:\", ascending_order)  # Output the sorted list\n",
    "\n",
    "# Step 3: Sort the list in descending order\n",
    "descending_order = sorted(numbers, reverse=True)  # Use the sorted() function with reverse=True to sort in descending order\n",
    "print(\"Sorted list in descending order:\", descending_order)  # Output the sorted list\n"
   ]
  },
  {
   "cell_type": "code",
   "execution_count": 30,
   "id": "84f82efe-790e-4aac-9dc6-4ce5c100f4d9",
   "metadata": {},
   "outputs": [
    {
     "name": "stdout",
     "output_type": "stream",
     "text": [
      "First 5 elements: [1, 2, 3, 4, 5]\n",
      "Last 5 elements: [6, 7, 8, 9, 10]\n",
      "Elements from index 2 to 7: [3, 4, 5, 6, 7, 8]\n"
     ]
    }
   ],
   "source": [
    "# Exercise 10: List Slicing\n",
    "\n",
    "# Given list of numbers\n",
    "numbers = [1, 2, 3, 4, 5, 6, 7, 8, 9, 10]  # Initialize the list\n",
    "\n",
    "# Step 1: Print the first 5 elements\n",
    "first_five = numbers[:5]  # Slice the list to get the first 5 elements\n",
    "print(\"First 5 elements:\", first_five)  # Output the first 5 elements\n",
    "\n",
    "# Step 2: Print the last 5 elements\n",
    "last_five = numbers[-5:]  # Slice the list to get the last 5 elements\n",
    "print(\"Last 5 elements:\", last_five)  # Output the last 5 elements\n",
    "\n",
    "# Step 3: Print the elements from index 2 to index 7\n",
    "elements_from_2_to_7 = numbers[2:8]  # Slice the list from index 2 to index 7 (8 is excluded)\n",
    "print(\"Elements from index 2 to 7:\", elements_from_2_to_7)  # Output the sliced elements\n"
   ]
  },
  {
   "cell_type": "code",
   "execution_count": 36,
   "id": "93abb103-7672-4714-9c67-a3472b6fb2d6",
   "metadata": {},
   "outputs": [
    {
     "name": "stdin",
     "output_type": "stream",
     "text": [
      "Enter the name of student 1:  Aman\n",
      "Enter score for subject 1:  99\n",
      "Enter score for subject 2:  100\n",
      "Enter score for subject 3:  86\n",
      "Enter the name of student 2:  Akash\n",
      "Enter score for subject 1:  99\n",
      "Enter score for subject 2:  100\n",
      "Enter score for subject 3:  67\n",
      "Enter the name of student 3:  iron man\n",
      "Enter score for subject 1:  100\n",
      "Enter score for subject 2:  100\n",
      "Enter score for subject 3:  100\n"
     ]
    },
    {
     "name": "stdout",
     "output_type": "stream",
     "text": [
      "Aman's average score: 95.00\n",
      "Akash's average score: 88.67\n",
      "iron man's average score: 100.00\n"
     ]
    }
   ],
   "source": [
    "# Exercise 11: Nested List\n",
    "\n",
    "# Step 1: Initialize an empty nested list to store students' names and scores\n",
    "students = []  # List to hold student information\n",
    "\n",
    "# Loop to take input for 3 students\n",
    "for i in range(3):\n",
    "    # Step 2: Take input for student's name\n",
    "    name = input(f\"Enter the name of student {i + 1}: \")  # Prompt user for student's name\n",
    "    \n",
    "    # Take input for scores in 3 subjects\n",
    "    scores = []  # Initialize an empty list to hold scores\n",
    "    for j in range(3):\n",
    "        score = float(input(f\"Enter score for subject {j + 1}: \"))  # Prompt for each subject score\n",
    "        scores.append(score)  # Add the score to the scores list\n",
    "    \n",
    "    # Append the student's name and scores to the main list as a nested list\n",
    "    students.append([name, scores])  # Store the student's name and scores in the nested list\n",
    "\n",
    "# Step 3: Print each student's name and their average score\n",
    "for student in students:\n",
    "    name = student[0]  # Get the student's name\n",
    "    scores = student[1]  # Get the student's scores\n",
    "    average_score = sum(scores) / len(scores)  # Calculate the average score\n",
    "    print(f\"{name}'s average score: {average_score:.2f}\")  # Output the student's name and average score formatted to 2 decimal places\n"
   ]
  },
  {
   "cell_type": "code",
   "execution_count": null,
   "id": "218b7cea-55ed-4c10-ae9b-0b9ff73d3926",
   "metadata": {},
   "outputs": [],
   "source": []
  },
  {
   "cell_type": "code",
   "execution_count": null,
   "id": "a5ff4b2a-970b-43ad-a156-66445b87c5dd",
   "metadata": {},
   "outputs": [],
   "source": []
  }
 ],
 "metadata": {
  "kernelspec": {
   "display_name": "Python 3 (ipykernel)",
   "language": "python",
   "name": "python3"
  },
  "language_info": {
   "codemirror_mode": {
    "name": "ipython",
    "version": 3
   },
   "file_extension": ".py",
   "mimetype": "text/x-python",
   "name": "python",
   "nbconvert_exporter": "python",
   "pygments_lexer": "ipython3",
   "version": "3.11.7"
  }
 },
 "nbformat": 4,
 "nbformat_minor": 5
}
